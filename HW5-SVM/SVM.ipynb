{
  "cells": [
    {
      "cell_type": "code",
      "execution_count": 1,
      "metadata": {
        "id": "q00JF9knfdhg",
        "colab": {
          "base_uri": "https://localhost:8080/"
        },
        "outputId": "1b544886-726c-431f-9259-0a63ab896fee"
      },
      "outputs": [
        {
          "output_type": "stream",
          "name": "stdout",
          "text": [
            "Downloading...\n",
            "From: https://drive.google.com/uc?id=1sCTQXp9kTcm8_jckqC-v_gWxIsFCcUbS\n",
            "To: /content/X_train\n",
            "100% 7.14M/7.14M [00:00<00:00, 50.8MB/s]\n",
            "Downloading...\n",
            "From: https://drive.google.com/uc?id=1vK24A09o5Nev5qj1qNhndFe6beTWSDRU\n",
            "To: /content/Y_train\n",
            "100% 65.1k/65.1k [00:00<00:00, 46.1MB/s]\n",
            "Downloading...\n",
            "From: https://drive.google.com/uc?id=1THvOuf_EOn6c_6TLy0Bqs23BP2NraBR2\n",
            "To: /content/X_test\n",
            "100% 3.57M/3.57M [00:00<00:00, 119MB/s]\n"
          ]
        }
      ],
      "source": [
        "!gdown 1sCTQXp9kTcm8_jckqC-v_gWxIsFCcUbS\n",
        "!gdown 1vK24A09o5Nev5qj1qNhndFe6beTWSDRU\n",
        "!gdown 1THvOuf_EOn6c_6TLy0Bqs23BP2NraBR2"
      ]
    },
    {
      "cell_type": "code",
      "execution_count": 1,
      "metadata": {
        "id": "-i7a0zITdd0h"
      },
      "outputs": [],
      "source": [
        "import numpy as np\n",
        "import pandas as pd\n",
        "import csv\n",
        "from sklearn.svm import SVC"
      ]
    },
    {
      "cell_type": "code",
      "execution_count": 2,
      "metadata": {
        "id": "14_RdKtHfu1j"
      },
      "outputs": [],
      "source": [
        "def normalize(X, mu_x=None, std_x=None):\n",
        "  cols = [0,1,3,4,5]\n",
        "  mu_x = np.zeros(106)\n",
        "  std_x = np.ones(106)\n",
        "  for col in cols:\n",
        "    mu_x[col] = np.mean(X.iloc[:,col])\n",
        "    std_x[col] = np.std(X.iloc[:,col])\n",
        "  X = (X-mu_x)/std_x\n",
        "  return X\n",
        "\n",
        "def load_train():\n",
        "  X = pd.read_csv(\"X_train\")  # 'age', 'fnlwgt', 'hours_per_week', 'capital_gain', 'capital_loss' are coninuous, others are discrete\n",
        "  Y = pd.read_csv(\"Y_train\", header = None).values.reshape(-1)\n",
        "  X = normalize(X)\n",
        "  return X, Y\n",
        "\n",
        "def load_train_split():\n",
        "  X = pd.read_csv(\"X_train\")  \n",
        "  Y = pd.read_csv(\"Y_train\", header = None).values.reshape(-1)\n",
        "  X = normalize(X)\n",
        "  X['y'] = Y\n",
        "  print(X.corr())\n",
        "  tr = X.sample(frac=0.85, random_state=1)\n",
        "  val = X.drop(tr.index)\n",
        "  tr_X, tr_Y, val_X, val_Y = tr.iloc[:, :-1], tr.iloc[:, -1], val.iloc[:, :-1], val.iloc[:, -1]\n",
        "  return tr_X, tr_Y, val_X, val_Y\n",
        "\n",
        "def load_test():\n",
        "  X = pd.read_csv(\"X_test\")\n",
        "  X = normalize(X)\n",
        "  return X"
      ]
    },
    {
      "cell_type": "code",
      "execution_count": 3,
      "metadata": {
        "id": "EvWtcFbzgCG4"
      },
      "outputs": [],
      "source": [
        "train_X, train_Y= load_train()\n",
        "test_X = load_test()"
      ]
    },
    {
      "cell_type": "code",
      "execution_count": 4,
      "metadata": {
        "colab": {
          "base_uri": "https://localhost:8080/"
        },
        "id": "RNTx_SOIk53U",
        "outputId": "bd6dade9-a611-48c9-ccf3-803291a0008b"
      },
      "outputs": [
        {
          "output_type": "execute_result",
          "data": {
            "text/plain": [
              "SVC(random_state=0)"
            ]
          },
          "metadata": {},
          "execution_count": 4
        }
      ],
      "source": [
        "clf = SVC(kernel='rbf',gamma=\"scale\", random_state=0)\n",
        "clf.fit(train_X, train_Y)\n",
        "# print(clf.score(val_X, val_Y))"
      ]
    },
    {
      "cell_type": "code",
      "execution_count": 5,
      "metadata": {
        "id": "LS6LHG3bntKv"
      },
      "outputs": [],
      "source": [
        "results = clf.predict(test_X)\n",
        "with open('predict.csv', 'w', newline='') as f:\n",
        "    writer = csv.writer(f)\n",
        "    writer.writerow(['id','label'])\n",
        "    for i, x in enumerate(results):\n",
        "      writer.writerow([i + 1, int(x)])"
      ]
    }
  ],
  "metadata": {
    "colab": {
      "provenance": []
    },
    "kernelspec": {
      "display_name": "Python 3",
      "name": "python3"
    },
    "language_info": {
      "name": "python"
    }
  },
  "nbformat": 4,
  "nbformat_minor": 0
}